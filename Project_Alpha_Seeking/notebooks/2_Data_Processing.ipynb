{
 "cells": [
  {
   "cell_type": "markdown",
   "id": "d78a7c90-23d7-424d-9a40-6b0b3ce4054e",
   "metadata": {},
   "source": [
    "# 2_数据准备\n",
    "本notebook主要介绍如何获取数据，为后续的指标计算和策略实现做准备。"
   ]
  },
  {
   "cell_type": "markdown",
   "id": "7cf40568-448c-4630-8f5e-dc42f79c8b94",
   "metadata": {},
   "source": [
    "### 1. 数据来源介绍\n",
    "获取行情数据的常用方法有以下几种：\n",
    "\n",
    "1. Tushare：专注于金融数据的开源Python库，提供基础的股票、基金、期货、期权等金融数据, 可免费下载日线/分钟线数据\n",
    "2. Alpha Vantage：全球股票（美股、港股、A股部分支持，但 A 股数据不如 tushare 全面）、ETF、外汇、加密货币，可免费下载日线/分钟线数据\n",
    "3. Yahoo Finance：全球股票（美股、港股、A股部分支持，但 A 股数据不如 tushare 全面）、ETF、外汇、加密货币，可免费下载日线数据，分钟线数据会出发限制\n",
    "4. ByBit: 加密货币数据，除level 2 数据均可免费下载. (Binance 提供部分免费的Level2数据)"
   ]
  },
  {
   "cell_type": "markdown",
   "id": "1c21c6fd-d118-4c83-af48-4bef0121f17e",
   "metadata": {},
   "source": [
    "### 2. 安装并配置所依赖的库Tushare，yfinance"
   ]
  },
  {
   "cell_type": "code",
   "execution_count": 3,
   "id": "3ce78ffc-3305-4844-8cc1-e8974a36a770",
   "metadata": {},
   "outputs": [],
   "source": [
    "# 安装Tushare（如果尚未安装）\n",
    "# !pip install tushare# "
   ]
  },
  {
   "cell_type": "code",
   "execution_count": 1,
   "id": "0717688c-3d78-4c8d-b66d-49208fa3fc71",
   "metadata": {},
   "outputs": [
    {
     "name": "stdout",
     "output_type": "stream",
     "text": [
      "成功加载 .env 文件\n"
     ]
    }
   ],
   "source": [
    "# 导入必要的库\n",
    "import pandas as pd \n",
    "import matplotlib.pyplot as plt \n",
    "import numpy as np\n",
    "import warnings\n",
    "import os\n",
    "import sys\n",
    "from datetime import datetime\n",
    "from dotenv import load_dotenv, find_dotenv\n",
    "\n",
    "# Find the .env file in the parent directory\n",
    "dotenv_path = find_dotenv(\"../.env\") \n",
    "\n",
    "if not dotenv_path:\n",
    "    print(\"未找到 .env 文件，请确保 .env 文件存在\")\n",
    "else:\n",
    "    load_dotenv(dotenv_path)\n",
    "    print(\"成功加载 .env 文件\")\n",
    "\n",
    "# 添加上一级目录到 sys.path\n",
    "notebook_dir = os.getcwd()\n",
    "parent_dir = os.path.abspath(os.path.join(notebook_dir, '..'))\n",
    "sys.path.append(parent_dir)\n",
    "\n",
    "# 设置显示选项\n",
    "pd.set_option('display.float_format', lambda x: '%.4f' % x)  \n",
    "# 绘图风格（可选）\n",
    "plt.style.use('seaborn-v0_8-bright')  \n",
    "# 设置中文显示\n",
    "plt.rcParams['font.sans-serif'] = ['Microsoft YaHei']  \n",
    "plt.rcParams['axes.unicode_minus'] = False "
   ]
  },
  {
   "cell_type": "code",
   "execution_count": 2,
   "id": "734aaacd-014e-4031-ab0b-040e24dcabee",
   "metadata": {},
   "outputs": [
    {
     "name": "stdout",
     "output_type": "stream",
     "text": [
      "获取数据时间范围：2020-03-13 到 2025-03-12\n",
      "从本地缓存加载数据\n",
      "             close    high     low    open     volume\n",
      "Date                                                 \n",
      "2020-03-13 36.4413 40.5047 33.4667 39.6667  339604500\n",
      "2020-03-16 29.6713 32.9913 29.4780 31.3000  307342500\n",
      "2020-03-17 28.6800 31.4567 26.4000 29.3340  359919000\n",
      "2020-03-18 24.0813 26.9907 23.3673 25.9333  356793000\n",
      "2020-03-19 28.5093 30.1333 23.8973 24.9800  452932500\n",
      "2020-03-20 28.5020 31.8000 28.3860 29.2133  424282500\n",
      "2020-03-23 28.9527 29.4667 27.3667 28.9067  246817500\n",
      "2020-03-24 33.6667 34.2460 31.6000 31.8200  343428000\n",
      "2020-03-25 35.9500 37.1333 34.0740 36.3500  318340500\n",
      "2020-03-26 35.2107 37.3333 34.1500 36.4927  260710500\n"
     ]
    }
   ],
   "source": [
    "# Yahoo Finance 获取特斯拉过去五年日线数据\n",
    "from data_processing.yahoo_finance import load_data_yf, flatten_yf_columns, standardize_columns  \n",
    "start_date = datetime.strptime('2020-03-13', '%Y-%m-%d')\n",
    "end_date = datetime.strptime('2025-03-12', '%Y-%m-%d') \n",
    "print(f\"获取数据时间范围：{start_date.strftime('%Y-%m-%d')} 到 {end_date.strftime('%Y-%m-%d')}\")  \n",
    "\n",
    "# 下载特斯拉日线数据\n",
    "ticker = 'TSLA'  \n",
    "interval =\"1d\"\n",
    "data = load_data_yf(ticker=ticker, start_date=start_date, end_date=end_date, interval=interval)\n",
    "data = flatten_yf_columns(data)  \n",
    "data = standardize_columns(data) \n",
    "print(data.head(10)) "
   ]
  },
  {
   "cell_type": "code",
   "execution_count": 3,
   "id": "39228d5d",
   "metadata": {},
   "outputs": [
    {
     "name": "stdout",
     "output_type": "stream",
     "text": [
      "获取数据时间范围：2024-03-13 到 2025-03-12\n",
      "获取2024-01的数据...\n",
      "2024-01的数据已保存到本地缓存\n",
      "获取2024-02的数据...\n",
      "2024-02的数据已保存到本地缓存\n",
      "获取2024-03的数据...\n",
      "2024-03的数据已保存到本地缓存\n",
      "获取2024-04的数据...\n",
      "2024-04的数据已保存到本地缓存\n",
      "获取2024-05的数据...\n",
      "2024-05的数据已保存到本地缓存\n",
      "获取2024-06的数据...\n",
      "2024-06的数据已保存到本地缓存\n",
      "获取2024-07的数据...\n",
      "2024-07的数据已保存到本地缓存\n",
      "获取2024-08的数据...\n",
      "2024-08的数据已保存到本地缓存\n",
      "获取2024-09的数据...\n",
      "2024-09的数据已保存到本地缓存\n",
      "获取2024-10的数据...\n",
      "2024-10的数据已保存到本地缓存\n",
      "获取2024-11的数据...\n",
      "2024-11的数据已保存到本地缓存\n",
      "获取2024-12的数据...\n",
      "2024-12的数据已保存到本地缓存\n",
      "2024年的数据已保存到本地缓存\n"
     ]
    },
    {
     "data": {
      "text/html": [
       "<div>\n",
       "<style scoped>\n",
       "    .dataframe tbody tr th:only-of-type {\n",
       "        vertical-align: middle;\n",
       "    }\n",
       "\n",
       "    .dataframe tbody tr th {\n",
       "        vertical-align: top;\n",
       "    }\n",
       "\n",
       "    .dataframe thead th {\n",
       "        text-align: right;\n",
       "    }\n",
       "</style>\n",
       "<table border=\"1\" class=\"dataframe\">\n",
       "  <thead>\n",
       "    <tr style=\"text-align: right;\">\n",
       "      <th></th>\n",
       "      <th>open</th>\n",
       "      <th>high</th>\n",
       "      <th>low</th>\n",
       "      <th>close</th>\n",
       "      <th>volume</th>\n",
       "    </tr>\n",
       "  </thead>\n",
       "  <tbody>\n",
       "    <tr>\n",
       "      <th>2024-01-02 04:00:00</th>\n",
       "      <td>248.0500</td>\n",
       "      <td>250.9700</td>\n",
       "      <td>248.0500</td>\n",
       "      <td>250.4100</td>\n",
       "      <td>155860</td>\n",
       "    </tr>\n",
       "    <tr>\n",
       "      <th>2024-01-02 04:30:00</th>\n",
       "      <td>250.4100</td>\n",
       "      <td>250.4600</td>\n",
       "      <td>249.7800</td>\n",
       "      <td>250.3800</td>\n",
       "      <td>44094</td>\n",
       "    </tr>\n",
       "    <tr>\n",
       "      <th>2024-01-02 05:00:00</th>\n",
       "      <td>250.3700</td>\n",
       "      <td>250.5100</td>\n",
       "      <td>249.5400</td>\n",
       "      <td>249.6400</td>\n",
       "      <td>69108</td>\n",
       "    </tr>\n",
       "    <tr>\n",
       "      <th>2024-01-02 05:30:00</th>\n",
       "      <td>249.6400</td>\n",
       "      <td>249.8100</td>\n",
       "      <td>248.7700</td>\n",
       "      <td>248.8500</td>\n",
       "      <td>59484</td>\n",
       "    </tr>\n",
       "    <tr>\n",
       "      <th>2024-01-02 06:00:00</th>\n",
       "      <td>248.8300</td>\n",
       "      <td>248.8300</td>\n",
       "      <td>245.1000</td>\n",
       "      <td>245.1000</td>\n",
       "      <td>171227</td>\n",
       "    </tr>\n",
       "  </tbody>\n",
       "</table>\n",
       "</div>"
      ],
      "text/plain": [
       "                        open     high      low    close  volume\n",
       "2024-01-02 04:00:00 248.0500 250.9700 248.0500 250.4100  155860\n",
       "2024-01-02 04:30:00 250.4100 250.4600 249.7800 250.3800   44094\n",
       "2024-01-02 05:00:00 250.3700 250.5100 249.5400 249.6400   69108\n",
       "2024-01-02 05:30:00 249.6400 249.8100 248.7700 248.8500   59484\n",
       "2024-01-02 06:00:00 248.8300 248.8300 245.1000 245.1000  171227"
      ]
     },
     "metadata": {},
     "output_type": "display_data"
    }
   ],
   "source": [
    "#从Alpha Vantage获取特斯拉2024年30分钟数据\n",
    "from data_processing.alpha_vantage import load_data_av, load_data_year  \n",
    "start_date = datetime.strptime('2024-03-13', '%Y-%m-%d')\n",
    "end_date = datetime.strptime('2025-03-12', '%Y-%m-%d') \n",
    "print(f\"获取数据时间范围：{start_date.strftime('%Y-%m-%d')} 到 {end_date.strftime('%Y-%m-%d')}\")  \n",
    "\n",
    "# 下载特斯拉小时线数据\n",
    "ticker = 'TSLA'  \n",
    "year = 2024\n",
    "interval = \"30m\"\n",
    "# avdata = load_data_av(ticker=ticker, start_date=start_date, end_date=end_date, interval=interval)\n",
    "avdata=load_data_year(ticker, year, interval=\"30min\")\n",
    "display(avdata.head()) "
   ]
  },
  {
   "cell_type": "code",
   "execution_count": 4,
   "id": "612c4425",
   "metadata": {},
   "outputs": [
    {
     "name": "stdout",
     "output_type": "stream",
     "text": [
      "数据已保存到本地缓存\n",
      "              ts_code     open     high      low    close  pre_close   change  \\\n",
      "datetime                                                                        \n",
      "2020-03-13  300750.SZ 126.1000 133.8000 126.0100 132.1000   134.2000  -2.1000   \n",
      "2020-03-16  300750.SZ 128.0000 128.8800 118.8900 119.0600   132.1000 -13.0400   \n",
      "2020-03-17  300750.SZ 121.0000 122.9300 111.2500 117.9500   119.0600  -1.1100   \n",
      "2020-03-18  300750.SZ 118.9000 123.5000 116.0000 117.3500   117.9500  -0.6000   \n",
      "2020-03-19  300750.SZ 119.0000 119.5000 111.6900 115.0400   117.3500  -2.3100   \n",
      "\n",
      "            pct_chg      volume       amount  \n",
      "datetime                                      \n",
      "2020-03-13  -1.5648 274552.8400 3557983.7860  \n",
      "2020-03-16  -9.8713 490484.8500 5992811.6550  \n",
      "2020-03-17  -0.9323 392203.2800 4571660.1030  \n",
      "2020-03-18  -0.5087 313383.7600 3757216.3500  \n",
      "2020-03-19  -1.9685 331563.0700 3803916.5360  \n"
     ]
    }
   ],
   "source": [
    "# tu_share 下载宁德时代日线数据\n",
    "from data_processing.tu_share import load_data_ts, standardize_ts_columns\n",
    "import datetime\n",
    "\n",
    "# 设置时间范围\n",
    "start_date = datetime.datetime.strptime('2020-03-13', '%Y-%m-%d')\n",
    "end_date = datetime.datetime.strptime('2025-03-12', '%Y-%m-%d')\n",
    "\n",
    "#获取单只股票的历史数据\n",
    "ts_code = '300750.SZ'\n",
    "df = load_data_ts(ts_code, start_date, end_date, freq=\"daily\")\n",
    "df = standardize_ts_columns(df)\n",
    "print(df.head())"
   ]
  },
  {
   "cell_type": "code",
   "execution_count": null,
   "id": "4a04038a",
   "metadata": {},
   "outputs": [
    {
     "name": "stdout",
     "output_type": "stream",
     "text": [
      "数据已保存至: ./data/600519.SH-2022-03-03-2025-02-28-30min.csv\n",
      "     ts_code           trade_time     close      open      high       low  \\\n",
      "0  600519.SH  2025-02-27 15:00:00 1485.5600 1483.9900 1488.0000 1483.6800   \n",
      "1  600519.SH  2025-02-27 14:30:00 1484.0000 1487.4700 1489.0900 1483.1100   \n",
      "2  600519.SH  2025-02-27 14:00:00 1487.5100 1487.8800 1489.0900 1484.8000   \n",
      "3  600519.SH  2025-02-27 13:30:00 1487.9200 1485.9000 1488.7700 1477.1000   \n",
      "4  600519.SH  2025-02-27 11:30:00 1485.5000 1486.8800 1489.9000 1480.0800   \n",
      "\n",
      "          vol         amount  \n",
      "0 511762.0000 760222460.0000  \n",
      "1 378310.0000 562264260.0000  \n",
      "2 476032.0000 708129900.0000  \n",
      "3 421410.0000 625599740.0000  \n",
      "4 467955.0000 695581500.0000  \n"
     ]
    },
    {
     "name": "stderr",
     "output_type": "stream",
     "text": [
      "c:\\Users\\patri\\quantProjects\\.venv\\Lib\\site-packages\\tushare\\pro\\data_pro.py:130: FutureWarning: Series.fillna with 'method' is deprecated and will raise in a future version. Use obj.ffill() or obj.bfill() instead.\n",
      "  data['adj_factor'] = data['adj_factor'].fillna(method='bfill')\n"
     ]
    }
   ],
   "source": [
    "# tu_share 下载贵州茅台分钟线数据\n",
    "from data_processing.tu_share import get_ts_data, standardize_ts_columns\n",
    "import datetime\n",
    "\n",
    "\n",
    "# 设置时间范围\n",
    "# start_date = datetime.datetime.strptime('2020-03-13', '%Y-%m-%d')\n",
    "# end_date = datetime.datetime.strptime('2025-03-12', '%Y-%m-%d')\n",
    "start_date = '2022-03-03'  \n",
    "end_date = '2025-02-28'  \n",
    "\n",
    "#获取单只股票的历史数据\n",
    "ts_code = '600519.SH'\n",
    "df = get_ts_data(ts_code, start_date, end_date, freq=\"30min\")\n",
    "# df = standardize_ts_columns(df)\n",
    "print(df.head())"
   ]
  },
  {
   "cell_type": "code",
   "execution_count": 7,
   "id": "818fd102",
   "metadata": {},
   "outputs": [],
   "source": [
    "import time\n",
    "import pandas as pd\n",
    "import requests\n",
    "from datetime import datetime\n",
    "\n",
    "def load_data_bybit(\n",
    "    symbol: str,\n",
    "    start_date: datetime,\n",
    "    end_date: datetime,\n",
    "    interval: str = \"1d\",\n",
    "    category: str = \"linear\",\n",
    ") -> pd.DataFrame:\n",
    "    if not isinstance(start_date, datetime):\n",
    "        start_date = datetime.combine(start_date, datetime.min.time())\n",
    "    if not isinstance(end_date, datetime):\n",
    "        end_date = datetime.combine(end_date, datetime.max.time())\n",
    "\n",
    "    interval_map = {\"1d\": \"D\", \"240\": \"240\", \"60\": \"60\", \"30\": \"30\", \"15\": \"15\", \"5\": \"5\", \"1\": \"1\"}\n",
    "    if interval not in interval_map:\n",
    "        raise ValueError(f\"不支持的interval: {interval}\")\n",
    "    bybit_interval = interval_map[interval]\n",
    "\n",
    "    url = \"https://api.bybit.com/v5/market/kline\"\n",
    "    limit = 1000\n",
    "    all_data = []\n",
    "    start_ms = int(start_date.timestamp() * 1000)\n",
    "    end_ms = int(end_date.timestamp() * 1000)\n",
    "    cur_end = end_ms\n",
    "\n",
    "    while cur_end > start_ms:\n",
    "        params = {\n",
    "            \"category\": category,\n",
    "            \"symbol\": symbol,\n",
    "            \"interval\": bybit_interval,\n",
    "            \"start\": start_ms,\n",
    "            \"end\": cur_end,\n",
    "            \"limit\": limit\n",
    "        }\n",
    "        resp = requests.get(url, params=params)\n",
    "        data = resp.json()\n",
    "        klines = data.get(\"result\", {}).get(\"list\", [])\n",
    "        if not klines:\n",
    "            break\n",
    "        # 按时间升序\n",
    "        klines = sorted(klines, key=lambda x: int(x[0]))\n",
    "        all_data.extend(klines)\n",
    "        # 用本批次最早K线的时间戳推进\n",
    "        earliest_ts = int(klines[0][0])\n",
    "        if earliest_ts <= start_ms:\n",
    "            break\n",
    "        cur_end = earliest_ts - 1\n",
    "        if len(klines) < limit:\n",
    "            break\n",
    "        time.sleep(0.2)\n",
    "\n",
    "    if not all_data:\n",
    "        raise ValueError(\"未获取到任何K线数据\")\n",
    "\n",
    "    df = pd.DataFrame(all_data, columns=[\n",
    "        \"timestamp\", \"open\", \"high\", \"low\", \"close\", \"volume\", \"turnover\"\n",
    "    ])\n",
    "    df[\"datetime\"] = pd.to_datetime(df[\"timestamp\"].astype(int), unit=\"ms\")\n",
    "    df = df.sort_values(\"datetime\").drop_duplicates(\"datetime\").reset_index(drop=True)\n",
    "    for col in [\"open\", \"high\", \"low\", \"close\", \"volume\"]:\n",
    "        df[col] = pd.to_numeric(df[col], errors=\"coerce\")\n",
    "    df = df[[\"datetime\", \"open\", \"high\", \"low\", \"close\", \"volume\"]]\n",
    "    df = df[(df[\"datetime\"] >= start_date) & (df[\"datetime\"] <= end_date)]\n",
    "    return df"
   ]
  },
  {
   "cell_type": "code",
   "execution_count": 25,
   "id": "44745f9d",
   "metadata": {},
   "outputs": [
    {
     "name": "stdout",
     "output_type": "stream",
     "text": [
      "    datetime      open      high       low     close      volume\n",
      "0 2020-05-10 9546.0000 9569.0000 8153.0000 8725.0000 101828.0060\n",
      "1 2020-05-11 8725.0000 9158.5000 8182.0000 8559.0000  52692.8370\n",
      "2 2020-05-12 8559.0000 8973.0000 8531.5000 8813.0000  12481.2420\n",
      "3 2020-05-13 8813.0000 9400.5000 8794.5000 9301.5000  11279.5480\n",
      "4 2020-05-14 9301.5000 9940.0000 9258.5000 9788.0000  27688.8850\n"
     ]
    }
   ],
   "source": [
    "# ByBit 下载比特币永续合约过去五年日线数据\n",
    "from datetime import datetime, timedelta\n",
    "\n",
    "# 设定时间区间\n",
    "end_date = datetime.today()\n",
    "start_date = end_date - timedelta(days=5*365)\n",
    "\n",
    "\n",
    "bydata = load_data_bybit(\n",
    "    symbol=\"BTCUSDT\",\n",
    "    start_date=start_date,\n",
    "    end_date=end_date,\n",
    "    interval=\"1d\",      # 日线\n",
    "    category=\"linear\"   # USDT永续\n",
    ")\n",
    "\n",
    "print(bydata.head())"
   ]
  },
  {
   "cell_type": "code",
   "execution_count": 26,
   "id": "2a41ed4d",
   "metadata": {},
   "outputs": [
    {
     "name": "stdout",
     "output_type": "stream",
     "text": [
      "<class 'pandas.core.frame.DataFrame'>\n",
      "RangeIndex: 1825 entries, 0 to 1824\n",
      "Data columns (total 6 columns):\n",
      " #   Column    Non-Null Count  Dtype         \n",
      "---  ------    --------------  -----         \n",
      " 0   datetime  1825 non-null   datetime64[ns]\n",
      " 1   open      1825 non-null   float64       \n",
      " 2   high      1825 non-null   float64       \n",
      " 3   low       1825 non-null   float64       \n",
      " 4   close     1825 non-null   float64       \n",
      " 5   volume    1825 non-null   float64       \n",
      "dtypes: datetime64[ns](1), float64(5)\n",
      "memory usage: 85.7 KB\n",
      "None\n"
     ]
    }
   ],
   "source": [
    "print(bydata.info())       # 看看总共有多少行、列，各字段数据类型 "
   ]
  },
  {
   "cell_type": "code",
   "execution_count": null,
   "id": "31c8f91e",
   "metadata": {},
   "outputs": [
    {
     "name": "stdout",
     "output_type": "stream",
     "text": [
      "              datetime       open       high        low      close    volume\n",
      "16 2024-05-09 08:30:00 61280.0000 61422.0000 61234.0000 61293.2000  979.5730\n",
      "17 2024-05-09 09:00:00 61293.2000 61353.7000 60950.7000 61053.8000 2654.6530\n",
      "18 2024-05-09 09:30:00 61053.8000 61259.1000 60890.1000 61259.0000 3245.6220\n",
      "19 2024-05-09 10:00:00 61259.0000 61297.3000 60946.0000 60998.2000 1754.3400\n",
      "20 2024-05-09 10:30:00 60998.2000 61166.6000 60736.0000 60770.8000 3629.0550\n",
      "<class 'pandas.core.frame.DataFrame'>\n",
      "Index: 17504 entries, 16 to 17519\n",
      "Data columns (total 6 columns):\n",
      " #   Column    Non-Null Count  Dtype         \n",
      "---  ------    --------------  -----         \n",
      " 0   datetime  17504 non-null  datetime64[ns]\n",
      " 1   open      17504 non-null  float64       \n",
      " 2   high      17504 non-null  float64       \n",
      " 3   low       17504 non-null  float64       \n",
      " 4   close     17504 non-null  float64       \n",
      " 5   volume    17504 non-null  float64       \n",
      "dtypes: datetime64[ns](1), float64(5)\n",
      "memory usage: 957.2 KB\n",
      "None\n"
     ]
    }
   ],
   "source": [
    "# ByBit 下载比特币永续合约过去一年分钟线数据\n",
    "from datetime import datetime, timedelta\n",
    "\n",
    "# 设定时间区间\n",
    "end_date = datetime.today()\n",
    "start_date = end_date - timedelta(days=365)\n",
    "\n",
    "\n",
    "bydata_min = load_data_bybit(\n",
    "    symbol=\"BTCUSDT\",\n",
    "    start_date=start_date,\n",
    "    end_date=end_date,\n",
    "    interval=\"30\",      # 30m 分钟线\n",
    "    category=\"linear\"   # USDT永续\n",
    ")\n",
    "\n",
    "print(bydata_min.head())\n",
    "print(bydata_min.info())       # 看看总共有多少行、列，各字段数据类型 "
   ]
  },
  {
   "cell_type": "code",
   "execution_count": null,
   "id": "97e75407-9997-4bb7-bf58-462f7aedab10",
   "metadata": {},
   "outputs": [],
   "source": []
  }
 ],
 "metadata": {
  "kernelspec": {
   "display_name": ".venv",
   "language": "python",
   "name": "python3"
  },
  "language_info": {
   "codemirror_mode": {
    "name": "ipython",
    "version": 3
   },
   "file_extension": ".py",
   "mimetype": "text/x-python",
   "name": "python",
   "nbconvert_exporter": "python",
   "pygments_lexer": "ipython3",
   "version": "3.13.2"
  }
 },
 "nbformat": 4,
 "nbformat_minor": 5
}

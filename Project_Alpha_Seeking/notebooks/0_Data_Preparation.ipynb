{
 "cells": [
  {
   "cell_type": "markdown",
   "id": "d78a7c90-23d7-424d-9a40-6b0b3ce4054e",
   "metadata": {},
   "source": [
    "# 0_数据准备\n",
    "本notebook主要介绍如何获取数据，为后续的指标计算和策略实现做准备。"
   ]
  },
  {
   "cell_type": "markdown",
   "id": "7cf40568-448c-4630-8f5e-dc42f79c8b94",
   "metadata": {},
   "source": [
    "### 1. 数据来源介绍\n",
    "获取行情数据的常用方法有以下几种：\n",
    "\n",
    "1. Tushare：专注于金融数据的开源Python库，提供基础的股票、基金、期货、期权等金融数据\n",
    "2. AKShare：另一个开源金融数据接口库，涵盖金融、经济、特色数据等\n",
    "3. Alpha Vantage：全球股票（美股、港股、A股部分支持，但 A 股数据不如 tushare 全面）、ETF、外汇、加密货币\n",
    "4. Yahoo Finance：全球股票（美股、港股、A股部分支持，但 A 股数据不如 tushare 全面）、ETF、外汇、加密货币\n",
    "这里以Tushare为例，展示如何获取A股股票的历史行情数据。"
   ]
  },
  {
   "cell_type": "markdown",
   "id": "1c21c6fd-d118-4c83-af48-4bef0121f17e",
   "metadata": {},
   "source": [
    "### 2. 安装并配置所依赖的库Tushare，yfinance"
   ]
  },
  {
   "cell_type": "code",
   "execution_count": 3,
   "id": "3ce78ffc-3305-4844-8cc1-e8974a36a770",
   "metadata": {},
   "outputs": [],
   "source": [
    "# 安装Tushare（如果尚未安装）\n",
    "# !pip install tushare# "
   ]
  },
  {
   "cell_type": "code",
   "execution_count": 3,
   "id": "0717688c-3d78-4c8d-b66d-49208fa3fc71",
   "metadata": {},
   "outputs": [
    {
     "name": "stdout",
     "output_type": "stream",
     "text": [
      "成功加载 .env 文件\n"
     ]
    }
   ],
   "source": [
    "# 导入必要的库\n",
    "import tushare as ts\n",
    "import pandas as pd \n",
    "import matplotlib.pyplot as plt \n",
    "import numpy as np\n",
    "import warnings\n",
    "import os\n",
    "from dotenv import load_dotenv, find_dotenv\n",
    "\n",
    "# Find the .env file in the parent directory\n",
    "dotenv_path = find_dotenv(\"../.env\") \n",
    "\n",
    "if not dotenv_path:\n",
    "    print(\"未找到 .env 文件，请确保 .env 文件存在\")\n",
    "else:\n",
    "    load_dotenv(dotenv_path)\n",
    "    print(\"成功加载 .env 文件\")\n",
    "\n",
    "\n",
    "# 设置显示选项\n",
    "pd.set_option('display.float_format', lambda x: '%.4f' % x)  \n",
    "# 绘图风格（可选）\n",
    "plt.style.use('seaborn-v0_8-bright')  \n",
    "# 设置中文显示\n",
    "plt.rcParams['font.sans-serif'] = ['Microsoft YaHei']  \n",
    "plt.rcParams['axes.unicode_minus'] = False "
   ]
  },
  {
   "cell_type": "code",
   "execution_count": 5,
   "id": "734aaacd-014e-4031-ab0b-040e24dcabee",
   "metadata": {},
   "outputs": [],
   "source": [
    "# 设置Tushare的Token（需要先在Tushare官网注册获取）\n",
    "# 请在此处替换为您自己的Token\n",
    "ts.set_token(os.getenv(\"TUSHARE_API_TOKEN\"))  \n",
    "pro = ts.pro_api()"
   ]
  },
  {
   "cell_type": "markdown",
   "id": "108aad9d-79cc-4ed6-86be-889485743e11",
   "metadata": {},
   "source": [
    "### 3. 获取A股股票列表"
   ]
  },
  {
   "cell_type": "code",
   "execution_count": 31,
   "id": "50d64b9a-9a2b-4f3e-ac77-595d176fbb5e",
   "metadata": {},
   "outputs": [
    {
     "data": {
      "text/html": [
       "<div>\n",
       "<style scoped>\n",
       "    .dataframe tbody tr th:only-of-type {\n",
       "        vertical-align: middle;\n",
       "    }\n",
       "\n",
       "    .dataframe tbody tr th {\n",
       "        vertical-align: top;\n",
       "    }\n",
       "\n",
       "    .dataframe thead th {\n",
       "        text-align: right;\n",
       "    }\n",
       "</style>\n",
       "<table border=\"1\" class=\"dataframe\">\n",
       "  <thead>\n",
       "    <tr style=\"text-align: right;\">\n",
       "      <th></th>\n",
       "      <th>ts_code</th>\n",
       "      <th>symbol</th>\n",
       "      <th>name</th>\n",
       "      <th>area</th>\n",
       "      <th>industry</th>\n",
       "      <th>list_date</th>\n",
       "    </tr>\n",
       "  </thead>\n",
       "  <tbody>\n",
       "    <tr>\n",
       "      <th>0</th>\n",
       "      <td>000001.SZ</td>\n",
       "      <td>000001</td>\n",
       "      <td>平安银行</td>\n",
       "      <td>深圳</td>\n",
       "      <td>银行</td>\n",
       "      <td>19910403</td>\n",
       "    </tr>\n",
       "    <tr>\n",
       "      <th>1</th>\n",
       "      <td>000002.SZ</td>\n",
       "      <td>000002</td>\n",
       "      <td>万科A</td>\n",
       "      <td>深圳</td>\n",
       "      <td>全国地产</td>\n",
       "      <td>19910129</td>\n",
       "    </tr>\n",
       "    <tr>\n",
       "      <th>2</th>\n",
       "      <td>000004.SZ</td>\n",
       "      <td>000004</td>\n",
       "      <td>*ST国华</td>\n",
       "      <td>深圳</td>\n",
       "      <td>软件服务</td>\n",
       "      <td>19910114</td>\n",
       "    </tr>\n",
       "    <tr>\n",
       "      <th>3</th>\n",
       "      <td>000006.SZ</td>\n",
       "      <td>000006</td>\n",
       "      <td>深振业A</td>\n",
       "      <td>深圳</td>\n",
       "      <td>区域地产</td>\n",
       "      <td>19920427</td>\n",
       "    </tr>\n",
       "    <tr>\n",
       "      <th>4</th>\n",
       "      <td>000007.SZ</td>\n",
       "      <td>000007</td>\n",
       "      <td>全新好</td>\n",
       "      <td>深圳</td>\n",
       "      <td>其他商业</td>\n",
       "      <td>19920413</td>\n",
       "    </tr>\n",
       "  </tbody>\n",
       "</table>\n",
       "</div>"
      ],
      "text/plain": [
       "     ts_code  symbol   name area industry list_date\n",
       "0  000001.SZ  000001   平安银行   深圳       银行  19910403\n",
       "1  000002.SZ  000002    万科A   深圳     全国地产  19910129\n",
       "2  000004.SZ  000004  *ST国华   深圳     软件服务  19910114\n",
       "3  000006.SZ  000006   深振业A   深圳     区域地产  19920427\n",
       "4  000007.SZ  000007    全新好   深圳     其他商业  19920413"
      ]
     },
     "execution_count": 31,
     "metadata": {},
     "output_type": "execute_result"
    }
   ],
   "source": [
    "# 获取股票列表\n",
    "stock_list = pro.stock_basic(exchange='', list_status='L', fields='ts_code,symbol,name,area,industry,list_date') \n",
    "stock_list.head()  "
   ]
  },
  {
   "cell_type": "code",
   "execution_count": 10,
   "id": "060bac66",
   "metadata": {},
   "outputs": [],
   "source": [
    "pd.reset_option('display.max_rows')"
   ]
  },
  {
   "cell_type": "markdown",
   "id": "c9b98920-83d7-4105-bb6e-f49acf2b7da4",
   "metadata": {},
   "source": [
    "### 4. 获取个股历史行情数据\n",
    "我们选择几支具有代表性的A股股票，获取它们的历史日线数据。"
   ]
  },
  {
   "cell_type": "code",
   "execution_count": 21,
   "id": "af127d41-f30f-4056-baef-d6e1e6e3016e",
   "metadata": {},
   "outputs": [],
   "source": [
    "# 设置时间范围\n",
    "start_date = '20200101'  \n",
    "end_date = '20230101'  \n",
    "\n",
    "# 选择几支代表性股票的代码\n",
    "# 宁德时代 - 新能源龙头\n",
    "# 贵州茅台 - 白酒龙头\n",
    "# 中国平安 - 保险龙头\n",
    "stock_codes = ['300750.SZ', '600519.SH', '601318.SH']  \n",
    "stock_names = ['宁德时代', '贵州茅台', '中国平安'] "
   ]
  },
  {
   "cell_type": "code",
   "execution_count": 22,
   "id": "252b0c69-9054-428d-9900-9dabd7a884ca",
   "metadata": {},
   "outputs": [],
   "source": [
    "# 函数：获取单只股票的历史数据\n",
    "def get_stock_data(ts_code, start_date, end_date): \n",
    "    df = pro.daily(ts_code=ts_code, start_date=start_date, end_date=end_date)  \n",
    "    # 按日期升序排列\n",
    "    df = df.sort_values('trade_date')\n",
    "    # 将日期转换为datetime格式\n",
    "    df['trade_date'] = pd.to_datetime(df['trade_date']) \n",
    "    # 设置日期为索引\n",
    "    df.set_index('trade_date', inplace=True) \n",
    "    return df "
   ]
  },
  {
   "cell_type": "code",
   "execution_count": 23,
   "id": "9d69c6cd-525d-4b19-a7d2-7b6a662a0f4f",
   "metadata": {},
   "outputs": [
    {
     "name": "stdout",
     "output_type": "stream",
     "text": [
      "成功获取 宁德时代 的历史数据\n",
      "成功获取 贵州茅台 的历史数据\n",
      "成功获取 中国平安 的历史数据\n"
     ]
    }
   ],
   "source": [
    "# 获取三只股票的数据并存储到字典中\n",
    "stock_data = {}  \n",
    "\n",
    "for i, code in enumerate(stock_codes):\n",
    "    try:  \n",
    "        stock_data[stock_names[i]] = get_stock_data(code, start_date, end_date) \n",
    "        print(f\"成功获取 {stock_names[i]} 的历史数据\")  \n",
    "    except Exception as e:  \n",
    "        print(f\"获取 {stock_names[i]} 数据时出现错误: {e}\")"
   ]
  },
  {
   "cell_type": "markdown",
   "id": "bc9610c2-15bb-46c4-b925-59338f6d4a52",
   "metadata": {},
   "source": [
    "### 5. 数据预览与基本分析"
   ]
  },
  {
   "cell_type": "code",
   "execution_count": 25,
   "id": "2b7b6b84-bead-4fd2-b90f-b099945bc0aa",
   "metadata": {},
   "outputs": [
    {
     "data": {
      "text/html": [
       "<div>\n",
       "<style scoped>\n",
       "    .dataframe tbody tr th:only-of-type {\n",
       "        vertical-align: middle;\n",
       "    }\n",
       "\n",
       "    .dataframe tbody tr th {\n",
       "        vertical-align: top;\n",
       "    }\n",
       "\n",
       "    .dataframe thead th {\n",
       "        text-align: right;\n",
       "    }\n",
       "</style>\n",
       "<table border=\"1\" class=\"dataframe\">\n",
       "  <thead>\n",
       "    <tr style=\"text-align: right;\">\n",
       "      <th></th>\n",
       "      <th>ts_code</th>\n",
       "      <th>open</th>\n",
       "      <th>high</th>\n",
       "      <th>low</th>\n",
       "      <th>close</th>\n",
       "      <th>pre_close</th>\n",
       "      <th>change</th>\n",
       "      <th>pct_chg</th>\n",
       "      <th>vol</th>\n",
       "      <th>amount</th>\n",
       "    </tr>\n",
       "    <tr>\n",
       "      <th>trade_date</th>\n",
       "      <th></th>\n",
       "      <th></th>\n",
       "      <th></th>\n",
       "      <th></th>\n",
       "      <th></th>\n",
       "      <th></th>\n",
       "      <th></th>\n",
       "      <th></th>\n",
       "      <th></th>\n",
       "      <th></th>\n",
       "    </tr>\n",
       "  </thead>\n",
       "  <tbody>\n",
       "    <tr>\n",
       "      <th>2020-01-02</th>\n",
       "      <td>300750.SZ</td>\n",
       "      <td>107.21</td>\n",
       "      <td>108.85</td>\n",
       "      <td>105.70</td>\n",
       "      <td>107.52</td>\n",
       "      <td>106.40</td>\n",
       "      <td>1.12</td>\n",
       "      <td>1.0526</td>\n",
       "      <td>206115.89</td>\n",
       "      <td>2213454.650</td>\n",
       "    </tr>\n",
       "    <tr>\n",
       "      <th>2020-01-03</th>\n",
       "      <td>300750.SZ</td>\n",
       "      <td>107.52</td>\n",
       "      <td>110.19</td>\n",
       "      <td>105.97</td>\n",
       "      <td>109.55</td>\n",
       "      <td>107.52</td>\n",
       "      <td>2.03</td>\n",
       "      <td>1.8880</td>\n",
       "      <td>180841.78</td>\n",
       "      <td>1956828.808</td>\n",
       "    </tr>\n",
       "    <tr>\n",
       "      <th>2020-01-06</th>\n",
       "      <td>300750.SZ</td>\n",
       "      <td>111.30</td>\n",
       "      <td>114.50</td>\n",
       "      <td>107.80</td>\n",
       "      <td>109.09</td>\n",
       "      <td>109.55</td>\n",
       "      <td>-0.46</td>\n",
       "      <td>-0.4199</td>\n",
       "      <td>265002.00</td>\n",
       "      <td>2958351.779</td>\n",
       "    </tr>\n",
       "    <tr>\n",
       "      <th>2020-01-07</th>\n",
       "      <td>300750.SZ</td>\n",
       "      <td>109.01</td>\n",
       "      <td>109.64</td>\n",
       "      <td>107.41</td>\n",
       "      <td>108.50</td>\n",
       "      <td>109.09</td>\n",
       "      <td>-0.59</td>\n",
       "      <td>-0.5408</td>\n",
       "      <td>135075.44</td>\n",
       "      <td>1461154.189</td>\n",
       "    </tr>\n",
       "    <tr>\n",
       "      <th>2020-01-08</th>\n",
       "      <td>300750.SZ</td>\n",
       "      <td>109.01</td>\n",
       "      <td>111.50</td>\n",
       "      <td>107.10</td>\n",
       "      <td>109.60</td>\n",
       "      <td>108.50</td>\n",
       "      <td>1.10</td>\n",
       "      <td>1.0138</td>\n",
       "      <td>192240.68</td>\n",
       "      <td>2098374.347</td>\n",
       "    </tr>\n",
       "  </tbody>\n",
       "</table>\n",
       "</div>"
      ],
      "text/plain": [
       "              ts_code    open    high     low   close  pre_close  change  \\\n",
       "trade_date                                                                 \n",
       "2020-01-02  300750.SZ  107.21  108.85  105.70  107.52     106.40    1.12   \n",
       "2020-01-03  300750.SZ  107.52  110.19  105.97  109.55     107.52    2.03   \n",
       "2020-01-06  300750.SZ  111.30  114.50  107.80  109.09     109.55   -0.46   \n",
       "2020-01-07  300750.SZ  109.01  109.64  107.41  108.50     109.09   -0.59   \n",
       "2020-01-08  300750.SZ  109.01  111.50  107.10  109.60     108.50    1.10   \n",
       "\n",
       "            pct_chg        vol       amount  \n",
       "trade_date                                   \n",
       "2020-01-02   1.0526  206115.89  2213454.650  \n",
       "2020-01-03   1.8880  180841.78  1956828.808  \n",
       "2020-01-06  -0.4199  265002.00  2958351.779  \n",
       "2020-01-07  -0.5408  135075.44  1461154.189  \n",
       "2020-01-08   1.0138  192240.68  2098374.347  "
      ]
     },
     "execution_count": 25,
     "metadata": {},
     "output_type": "execute_result"
    }
   ],
   "source": [
    "# 查看平安银行的数据结构\n",
    "stock_data['宁德时代'].head()"
   ]
  },
  {
   "cell_type": "code",
   "execution_count": 26,
   "id": "8890d2d6-db3a-4dfb-9389-58e7515f266c",
   "metadata": {},
   "outputs": [
    {
     "data": {
      "text/html": [
       "<div>\n",
       "<style scoped>\n",
       "    .dataframe tbody tr th:only-of-type {\n",
       "        vertical-align: middle;\n",
       "    }\n",
       "\n",
       "    .dataframe tbody tr th {\n",
       "        vertical-align: top;\n",
       "    }\n",
       "\n",
       "    .dataframe thead th {\n",
       "        text-align: right;\n",
       "    }\n",
       "</style>\n",
       "<table border=\"1\" class=\"dataframe\">\n",
       "  <thead>\n",
       "    <tr style=\"text-align: right;\">\n",
       "      <th></th>\n",
       "      <th>open</th>\n",
       "      <th>high</th>\n",
       "      <th>low</th>\n",
       "      <th>close</th>\n",
       "      <th>pre_close</th>\n",
       "      <th>change</th>\n",
       "      <th>pct_chg</th>\n",
       "      <th>vol</th>\n",
       "      <th>amount</th>\n",
       "    </tr>\n",
       "  </thead>\n",
       "  <tbody>\n",
       "    <tr>\n",
       "      <th>count</th>\n",
       "      <td>728.000000</td>\n",
       "      <td>728.000000</td>\n",
       "      <td>728.000000</td>\n",
       "      <td>728.000000</td>\n",
       "      <td>728.000000</td>\n",
       "      <td>728.000000</td>\n",
       "      <td>728.000000</td>\n",
       "      <td>728.000000</td>\n",
       "      <td>7.280000e+02</td>\n",
       "    </tr>\n",
       "    <tr>\n",
       "      <th>mean</th>\n",
       "      <td>375.991690</td>\n",
       "      <td>384.111937</td>\n",
       "      <td>367.405783</td>\n",
       "      <td>375.923874</td>\n",
       "      <td>375.528091</td>\n",
       "      <td>0.395783</td>\n",
       "      <td>0.235540</td>\n",
       "      <td>169282.822596</td>\n",
       "      <td>5.865322e+06</td>\n",
       "    </tr>\n",
       "    <tr>\n",
       "      <th>std</th>\n",
       "      <td>157.594788</td>\n",
       "      <td>160.335782</td>\n",
       "      <td>153.906886</td>\n",
       "      <td>157.106192</td>\n",
       "      <td>157.421876</td>\n",
       "      <td>12.893920</td>\n",
       "      <td>3.340734</td>\n",
       "      <td>79082.848487</td>\n",
       "      <td>2.856742e+06</td>\n",
       "    </tr>\n",
       "    <tr>\n",
       "      <th>min</th>\n",
       "      <td>107.210000</td>\n",
       "      <td>108.850000</td>\n",
       "      <td>105.010000</td>\n",
       "      <td>107.480000</td>\n",
       "      <td>106.400000</td>\n",
       "      <td>-45.270000</td>\n",
       "      <td>-9.871300</td>\n",
       "      <td>54030.520000</td>\n",
       "      <td>1.308079e+06</td>\n",
       "    </tr>\n",
       "    <tr>\n",
       "      <th>25%</th>\n",
       "      <td>218.470000</td>\n",
       "      <td>223.962500</td>\n",
       "      <td>211.280000</td>\n",
       "      <td>222.070000</td>\n",
       "      <td>215.862500</td>\n",
       "      <td>-6.725000</td>\n",
       "      <td>-1.873200</td>\n",
       "      <td>116039.557500</td>\n",
       "      <td>3.839248e+06</td>\n",
       "    </tr>\n",
       "    <tr>\n",
       "      <th>50%</th>\n",
       "      <td>397.475000</td>\n",
       "      <td>406.025000</td>\n",
       "      <td>389.500000</td>\n",
       "      <td>397.030000</td>\n",
       "      <td>397.030000</td>\n",
       "      <td>0.005000</td>\n",
       "      <td>0.004150</td>\n",
       "      <td>149047.090000</td>\n",
       "      <td>5.438800e+06</td>\n",
       "    </tr>\n",
       "    <tr>\n",
       "      <th>75%</th>\n",
       "      <td>509.962500</td>\n",
       "      <td>520.395000</td>\n",
       "      <td>499.815000</td>\n",
       "      <td>508.532500</td>\n",
       "      <td>508.532500</td>\n",
       "      <td>6.470000</td>\n",
       "      <td>1.967450</td>\n",
       "      <td>197996.465000</td>\n",
       "      <td>7.547994e+06</td>\n",
       "    </tr>\n",
       "    <tr>\n",
       "      <th>max</th>\n",
       "      <td>688.960000</td>\n",
       "      <td>692.000000</td>\n",
       "      <td>673.330000</td>\n",
       "      <td>688.000000</td>\n",
       "      <td>688.000000</td>\n",
       "      <td>52.990000</td>\n",
       "      <td>15.092100</td>\n",
       "      <td>602772.070000</td>\n",
       "      <td>2.225553e+07</td>\n",
       "    </tr>\n",
       "  </tbody>\n",
       "</table>\n",
       "</div>"
      ],
      "text/plain": [
       "             open        high         low       close   pre_close      change  \\\n",
       "count  728.000000  728.000000  728.000000  728.000000  728.000000  728.000000   \n",
       "mean   375.991690  384.111937  367.405783  375.923874  375.528091    0.395783   \n",
       "std    157.594788  160.335782  153.906886  157.106192  157.421876   12.893920   \n",
       "min    107.210000  108.850000  105.010000  107.480000  106.400000  -45.270000   \n",
       "25%    218.470000  223.962500  211.280000  222.070000  215.862500   -6.725000   \n",
       "50%    397.475000  406.025000  389.500000  397.030000  397.030000    0.005000   \n",
       "75%    509.962500  520.395000  499.815000  508.532500  508.532500    6.470000   \n",
       "max    688.960000  692.000000  673.330000  688.000000  688.000000   52.990000   \n",
       "\n",
       "          pct_chg            vol        amount  \n",
       "count  728.000000     728.000000  7.280000e+02  \n",
       "mean     0.235540  169282.822596  5.865322e+06  \n",
       "std      3.340734   79082.848487  2.856742e+06  \n",
       "min     -9.871300   54030.520000  1.308079e+06  \n",
       "25%     -1.873200  116039.557500  3.839248e+06  \n",
       "50%      0.004150  149047.090000  5.438800e+06  \n",
       "75%      1.967450  197996.465000  7.547994e+06  \n",
       "max     15.092100  602772.070000  2.225553e+07  "
      ]
     },
     "execution_count": 26,
     "metadata": {},
     "output_type": "execute_result"
    }
   ],
   "source": [
    "# 查看数据基本统计信息\n",
    "stock_data['宁德时代'].describe() "
   ]
  },
  {
   "cell_type": "code",
   "execution_count": 27,
   "id": "47957e5b-ac74-47da-9f6c-c7a37263ce78",
   "metadata": {},
   "outputs": [
    {
     "data": {
      "image/png": "[encoded data removed]",
      "text/plain": [
       "<Figure size 1200x600 with 1 Axes>"
      ]
     },
     "metadata": {},
     "output_type": "display_data"
    }
   ],
   "source": [
    "# 基本数据可视化\n",
    "plt.figure(figsize=(12, 6)) \n",
    "\n",
    "for name, data in stock_data.items():  \n",
    "    # 价格标准化，便于比较\n",
    "    normalized_price = data['close'] / data['close'].iloc[0] * 100  \n",
    "    plt.plot(data.index, normalized_price, label=name)  \n",
    "\n",
    "plt.title('股票价格走势对比（标准化）')  \n",
    "plt.xlabel('日期')  \n",
    "plt.ylabel('标准化价格（%）')  \n",
    "plt.legend() \n",
    "plt.grid(True) \n",
    "plt.show() "
   ]
  },
  {
   "cell_type": "markdown",
   "id": "b9472bfd-d5b2-4056-9980-fc594db48b19",
   "metadata": {},
   "source": [
    "### 6. 保存数据到CSV文件（可选）\n",
    "将获取的数据保存到本地，以便后续使用。"
   ]
  },
  {
   "cell_type": "code",
   "execution_count": 28,
   "id": "895ab314-76aa-4bd3-a31c-6a68aec67c63",
   "metadata": {},
   "outputs": [],
   "source": [
    "# 创建保存数据的文件夹（如果不存在）\n",
    "import os  \n",
    "if not os.path.exists('data'):\n",
    "    os.makedirs('data') "
   ]
  },
  {
   "cell_type": "code",
   "execution_count": 29,
   "id": "aae7a3f9-220c-4768-92f4-e289a14f6aaf",
   "metadata": {},
   "outputs": [
    {
     "name": "stdout",
     "output_type": "stream",
     "text": [
      "已将宁德时代的数据保存到 data/宁德时代_data.csv\n",
      "已将贵州茅台的数据保存到 data/贵州茅台_data.csv\n",
      "已将中国平安的数据保存到 data/中国平安_data.csv\n"
     ]
    }
   ],
   "source": [
    "# 保存数据到CSV文件\n",
    "for name, data in stock_data.items():  \n",
    "    file_path = f'data/{name}_data.csv'  \n",
    "    data.to_csv(file_path)  \n",
    "    print(f\"已将{name}的数据保存到 {file_path}\")"
   ]
  },
  {
   "cell_type": "markdown",
   "id": "6f9e386f-04b8-4498-b441-95f9486390cf",
   "metadata": {},
   "source": [
    "### 7. 从CSV文件加载数据（可选）\n",
    "如果已经有保存好的数据，可以直接从CSV文件中加载。"
   ]
  },
  {
   "cell_type": "code",
   "execution_count": null,
   "id": "0f956ee2-30de-4f81-b978-2aa172fff197",
   "metadata": {},
   "outputs": [],
   "source": [
    "# 从CSV文件加载数据\n",
    "def load_data_from_csv(file_path):  \n",
    "    df = pd.read_csv(file_path, index_col=0) \n",
    "    df.index = pd.to_datetime(df.index)  \n",
    "    return df\n",
    "    \n",
    "# 示例：加载平安银行的数据\n",
    "# pingan_data = load_data_from_csv('data/平安银行_data.csv')\n",
    "# pingan_data.head()"
   ]
  },
  {
   "cell_type": "markdown",
   "id": "b7855e7f-c83a-4fb0-adba-f1cddcbebab6",
   "metadata": {},
   "source": [
    "### 总结\n",
    "在本notebook中，我们完成了以下任务：\n",
    "\n",
    "+ 安装并配置了Tushare数据接口\n",
    "+ 获取了A股股票列表\n",
    "+ 获取了三只代表性股票的历史行情数据\n",
    "+ 对数据进行了基本的可视化和分析\n",
    "+ 学习了如何保存和加载数据\n",
    "这些数据将在后续的指标计算和策略实现中使用。"
   ]
  },
  {
   "cell_type": "markdown",
   "id": "dfbd9e36-64c9-47e4-aafb-6a3b93c96a02",
   "metadata": {},
   "source": [
    "从yahoo_finance 下载特斯拉过去五年的数据"
   ]
  },
  {
   "cell_type": "code",
   "execution_count": null,
   "id": "97e75407-9997-4bb7-bf58-462f7aedab10",
   "metadata": {},
   "outputs": [],
   "source": []
  }
 ],
 "metadata": {
  "kernelspec": {
   "display_name": ".venv",
   "language": "python",
   "name": "python3"
  },
  "language_info": {
   "codemirror_mode": {
    "name": "ipython",
    "version": 3
   },
   "file_extension": ".py",
   "mimetype": "text/x-python",
   "name": "python",
   "nbconvert_exporter": "python",
   "pygments_lexer": "ipython3",
   "version": "3.13.2"
  }
 },
 "nbformat": 4,
 "nbformat_minor": 5
}
